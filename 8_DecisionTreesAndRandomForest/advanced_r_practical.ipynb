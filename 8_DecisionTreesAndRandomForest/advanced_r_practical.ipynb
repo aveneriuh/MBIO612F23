{
 "cells": [
  {
   "cell_type": "code",
   "execution_count": 104,
   "id": "16c322f5-9026-4b6b-a106-c13f914edd1f",
   "metadata": {},
   "outputs": [],
   "source": [
    "library(magrittr)\n"
   ]
  },
  {
   "cell_type": "code",
   "execution_count": null,
   "id": "c5095cc5",
   "metadata": {
    "collapsed": false,
    "jupyter": {
     "outputs_hidden": false
    },
    "pycharm": {
     "name": "#%%\n"
    }
   },
   "outputs": [],
   "source": [
    "advanced_r_practical.ipynb"
   ]
  },
  {
   "cell_type": "markdown",
   "id": "6f558fe3-dfe9-4891-8ecd-02be0b5d56e0",
   "metadata": {},
   "source": [
    "### Exercise 1: For Loop and Apply Function\n",
    "\n",
    "Your task is to analyze water temperature data recorded over 16 consecutive days at five different sites. Follow these steps:\n",
    "\n",
    "1. Load the Data: \n",
    "   * The data is stored in a file named `temperatures.RDS`.\n",
    "     * Use the `readRDS()` function to import the data.\n",
    "   - Assign the imported data to a variable named `temps`, ensuring it is a `data.frame`.\n",
    "\n",
    "2. For Loop for Average Temperature:\n",
    "   - Write a `for` loop to calculate the average temperature observed during the 16 consecutive days at each site.\n",
    "   - The calculation should be done column-wise, i.e., for each site separately.\n",
    "\n",
    "3. Apply Function for Summary Statistics:\n",
    "   - Utilize the `apply()` function to compute the  mean for each site.\n",
    "     - Ensure that the mean statistics are computed for each site individually.\n"
   ]
  },
  {
   "cell_type": "code",
   "execution_count": null,
   "id": "bde3b70e-6b2a-4034-a714-4738b2a9df87",
   "metadata": {},
   "outputs": [],
   "source": []
  },
  {
   "cell_type": "markdown",
   "id": "6d322ab9-17b8-4a05-bc3a-cb8acbe0b704",
   "metadata": {},
   "source": [
    "# Execise 2: \n",
    "\n",
    "Consider the following list, which contains a list of species for each genus of marine species.\n",
    "\n",
    "```R\n",
    "marine_species <- list(\n",
    "  Acropora = c(\"Acropora palmata\", \"Acropora millepora\", \"Acropora digitifera\", \n",
    "               \"Acropora hyacinthus\", \"Acropora muricata\", \"Acropora nasuta\", \n",
    "               \"Acropora aspera\", \"Acropora tenuis\", \"Acropora valida\", \n",
    "               \"Acropora cervicornis\"),\n",
    "\n",
    "  Carcharodon = c(\"Carcharodon carcharias\", \"Carcharodon plicatilis\", \n",
    "                  \"Carcharodon hubbelli\", \"Carcharodon megalodon\", \n",
    "                  \"Carcharodon subauriculatus\", \"Carcharodon hastalis\", \n",
    "                  \"Carcharodon escheri\" ),\n",
    "\n",
    "  Chelonia = c(\"Chelonia mydas\", \"Chelonia agassizii\", \"Chelonia japonica\", \n",
    "               \"Chelonia depressa\", \"Chelonia imbricata\", \"Chelonia kempii\", \n",
    "               \"Chelonia midas\", \"Chelonia bissa\", \"Chelonia viridis\", \n",
    "               \"Chelonia nigra\"),\n",
    "\n",
    "  Paralichthys = c(\"Paralichthys olivaceus\", \"Paralichthys lethostigma\", \n",
    "                   \"Paralichthys patagonicus\", \"Paralichthys woolmani\", \n",
    "                   \"Paralichthys brasiliensis\", \"Paralichthys isosceles\"),\n",
    "\n",
    "  Sargassum = c(\"Sargassum muticum\", \"Sargassum fusiforme\", \"Sargassum horneri\", \n",
    "                \"Sargassum vulgare\", \"Sargassum natans\", \"Sargassum cymosum\", \n",
    "                \"Sargassum fluitans\")\n",
    ")\n",
    "\n",
    "# Print the list to view its contents\n",
    "print(marine_species)\n",
    "```\n",
    "\n",
    "* Use `lapply` and `sapply` to compute the number of species in each genus. The output should be a list of the counts for each genus.\n",
    "\n",
    "* Challenge: Use sapply on each element of the list to return the shorter species name. For example, \"Acropora palmata\" should return \"A. palmata\". To answer this question, you will need the following functions\n",
    "  * `strsplit`: takes a string or collection of strings and a separator and splits the string or collection of strings using the separator. The returned object is list each of wich contains the elements resulting from the split. Seee exmaple below\n",
    "  * `substr`: takes a string, a start position and end position and returns the resulting substring.\n",
    "    `substr(\"Bye\", 1, 1)` -> returns `'B'`\n",
    "    `substr(\"Bye\", 2, 1)` -> returns `'B'`"
   ]
  },
  {
   "cell_type": "code",
   "execution_count": 87,
   "id": "79354895-3c5d-4d80-a71b-5677f55fcd5d",
   "metadata": {},
   "outputs": [
    {
     "name": "stdout",
     "output_type": "stream",
     "text": [
      "[[1]]\n",
      "[1] \"Chelonia\" \"mydas\"   \n",
      "\n",
      "[[2]]\n",
      "[1] \"Acropora\"  \"millepora\"\n",
      "\n"
     ]
    }
   ],
   "source": [
    "sp = c(\"Chelonia mydas\", \"Acropora millepora\")\n",
    "x = strsplit(sp, \" \")\n",
    "print(x)\n"
   ]
  },
  {
   "cell_type": "code",
   "execution_count": 93,
   "id": "1af0fad8-e020-4c58-acc2-606dce98bca0",
   "metadata": {},
   "outputs": [
    {
     "data": {
      "text/html": [
       "'B'"
      ],
      "text/latex": [
       "'B'"
      ],
      "text/markdown": [
       "'B'"
      ],
      "text/plain": [
       "[1] \"B\""
      ]
     },
     "metadata": {},
     "output_type": "display_data"
    }
   ],
   "source": [
    "substr(\"Bye\", 1, 1)"
   ]
  },
  {
   "cell_type": "code",
   "execution_count": 64,
   "id": "dbcdd2cb-ec67-41eb-ac4b-2c206bfae45f",
   "metadata": {},
   "outputs": [],
   "source": [
    "marine_species <- list(\n",
    "  Acropora = c(\"Acropora palmata\", \"Acropora millepora\", \"Acropora digitifera\", \n",
    "               \"Acropora hyacinthus\", \"Acropora muricata\", \"Acropora nasuta\", \n",
    "               \"Acropora aspera\", \"Acropora tenuis\", \"Acropora valida\", \n",
    "               \"Acropora cervicornis\"),\n",
    "\n",
    "  Carcharodon = c(\"Carcharodon carcharias\", \"Carcharodon plicatilis\", \n",
    "                  \"Carcharodon hubbelli\", \"Carcharodon megalodon\", \n",
    "                  \"Carcharodon subauriculatus\", \"Carcharodon hastalis\", \n",
    "                  \"Carcharodon escheri\" ),\n",
    "\n",
    "  Chelonia = c(\"Chelonia mydas\", \"Chelonia agassizii\", \"Chelonia japonica\", \n",
    "               \"Chelonia depressa\", \"Chelonia imbricata\", \"Chelonia kempii\", \n",
    "               \"Chelonia midas\", \"Chelonia bissa\", \"Chelonia viridis\", \n",
    "               \"Chelonia nigra\"),\n",
    "\n",
    "  Paralichthys = c(\"Paralichthys olivaceus\", \"Paralichthys lethostigma\", \n",
    "                   \"Paralichthys patagonicus\", \"Paralichthys woolmani\", \n",
    "                   \"Paralichthys brasiliensis\", \"Paralichthys isosceles\"),\n",
    "\n",
    "  Sargassum = c(\"Sargassum muticum\", \"Sargassum fusiforme\", \"Sargassum horneri\", \n",
    "                \"Sargassum vulgare\")\n",
    ")"
   ]
  },
  {
   "cell_type": "markdown",
   "id": "b951ed13-64c4-4403-b752-e06298e199ff",
   "metadata": {},
   "source": [
    "# Exercise 3: Aggregating Data with `tapply` in R\n",
    "\n",
    "The dataset stored in the csv file `species_abundance.csv` provided includes three columns:\n",
    "\n",
    "- `Species`: This column lists the names of various marine species.\n",
    "- `Count`: This represents the count of individual organisms observed for each species.\n",
    "- `Location`: This details the various observation locations.\n",
    "\n",
    "* Read the data into a variable called `data` and print the six for entries of the table to see what it loosk like.\n",
    "* Use the `tapply` function in R to calculate the total number of  individuals . This involves aggregating the `Count` data for each `Species` and computing their mean values.\n",
    "* Can you print the total mean number of individuals per Location and per Species?\n",
    "  * I.e., this is a matrix where each entry is the average of individuals observed for a species (row) and a location (location)\n"
   ]
  },
  {
   "cell_type": "markdown",
   "id": "135e54c5-59b8-4668-afb0-fa21e7678af8",
   "metadata": {},
   "source": [
    "### Building a Data Transformation Pipeline Using Magrittr Pipes\n",
    "\n",
    "Streamline oceanographic data processing using the `%>%` operator from the `magrittr` package.\n",
    "\n",
    "The dataset, available in `oceanic.RDS`, simulates oceanographic measurements with these columns:\n",
    "- `Temperature`: Water temperature in degrees Celsius.\n",
    "- `Salinity`: Salinity in Practical Salinity Units (PSU).\n",
    "- `Depth`: Measurement depth in meters.\n",
    "- `Region`: The oceanic region of data collection.\n",
    "\n",
    "To prepare `ocean_data` for analysis, use the `%>%` operator for these transformations:\n",
    "1. Filter Extreme Temperatures: Exclude records with temperatures outside the ocean water's typical range (3C to 33C).\n",
    "\n",
    "2. Standardize Salinity: Adjust salinity levels to a standard scale. Implement a custom function for this conversion.\n",
    "\n",
    "3. Categorize Depth: Transform continuous depth measurements into categories (`Shallow`, `Intermediate`, `Deep`). Utilize the `cut` function, which requires a vector, boundaries, and labels for categorization. For example:\n",
    "\n",
    "    ```R\n",
    "    cut(c(1,2,...,10), breaks = c(0, 30, 200, Inf), labels = c(\"Shallow\", \"Intermediate\", \"Deep\"))\n",
    "    ```\n",
    "    \n",
    "  * This example categorizes depths less than 30 meters as `Shallow`, between 30 and 200 meters as `Intermediate`, and deeper than 200 meters as `Deep`.\n"
   ]
  },
  {
   "cell_type": "code",
   "execution_count": null,
   "id": "bf9f10aa-3645-49e7-ae56-aeb7e46978e8",
   "metadata": {},
   "outputs": [],
   "source": []
  }
 ],
 "metadata": {
  "kernelspec": {
   "display_name": "R",
   "language": "R",
   "name": "ir"
  },
  "language_info": {
   "codemirror_mode": "r",
   "file_extension": ".r",
   "mimetype": "text/x-r-source",
   "name": "R",
   "pygments_lexer": "r",
   "version": "4.3.1"
  }
 },
 "nbformat": 4,
 "nbformat_minor": 5
}
