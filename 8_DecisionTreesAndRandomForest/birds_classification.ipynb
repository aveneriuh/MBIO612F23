{
 "cells": [
  {
   "cell_type": "code",
   "execution_count": 59,
   "metadata": {},
   "outputs": [],
   "source": [
    "library(tree)\n",
    "library(randomForest)\n",
    "library(caret)\n",
    "library(gbm)\n"
   ]
  },
  {
   "cell_type": "code",
   "execution_count": 1,
   "metadata": {},
   "outputs": [],
   "source": [
    "\n",
    "options(repr.plot.width=20, repr.plot.height=10)\n"
   ]
  },
  {
   "cell_type": "markdown",
   "metadata": {},
   "source": [
    "For this practical, we will be working with a dataset called `birds.csv`, which was obtained here (https://www.kaggle.com/datasets/zhangjuefei/birds-bones-and-living-habits). This dataset comprises information on 420 birds, each characterized by 10 measurements (features):\n",
    "\n",
    "- Length and Diameter of the Humerus\n",
    "- Length and Diameter of the Ulna\n",
    "- Length and Diameter of the Femur\n",
    "- Length and Diameter of the Tibiotarsus\n",
    "- Length and Diameter of the Tarsometatarsus\n",
    "\n",
    "The goal is to predict the ecological group of each bird, classified as:\n",
    "\n",
    "- SW: Swimming Birds\n",
    "- W: Wading Birds\n",
    "- T: Terrestrial Birds\n",
    "- R: Raptors\n",
    "- P: Scansorial Birds\n",
    "- SO: Singing Birds\n",
    "\n",
    "Follow these steps for analysis:\n",
    "\n",
    "1. **Displaying Feature Distribution for Each Ecological Group**\n",
    "   - Visualize the distribution of each feature across ecological groups.\n",
    "   - You can choose any visulization that allows you to show all the features (variables) across all ecological groups.\n",
    "\n",
    "2. **Data Preparation**\n",
    "   - Convert the target column (ecological group) into a categorical variable (factor), as prediction models handle factors, not strings.\n",
    "   - Identify the number of missing values in each feature using apply to see if any of the variables contain more missing values than others. If that's the case, i.e., a lot of missing values for a single variable, we may have to drop the column. Not that it;s not the case here, so this purely a conceptual exercise.     \n",
    "   - Remove rows with missing values.\n",
    "   - Split the data into training and testing sets using the code snippet below:\n",
    "     ```R\n",
    "     set.seed(123) # for reproducibility\n",
    "     indices <- sample(1:nrow(birds), size = 0.7 * nrow(birds))\n",
    "     train_data <- birds[indices, ]\n",
    "     test_data <- birds[-indices, ]\n",
    "     ```\n",
    "     \n",
    "3. **Decision Tree Model**\n",
    "   - Build a decision tree model on the training data.\n",
    "   - Test the best model on your test data.\n",
    "\n",
    "5. **Random Forest Model**\n",
    "   - Choose any number of trees (ntree) and predict accuracy on test data.\n",
    "     - Pick any value of ntree you deem reasonable\n",
    "   - Compare results with previou models.\n",
    "\n",
    "6. **Gradient-Boosted Trees (GBM)**\n",
    "   - Select parameters for the GBM; you need to inspect the documentation to identify which ones are crucial.\n",
    "     - Pick any values for those parameters you deem reasonable\n",
    "   - Display the relative influence of each parameter.\n",
    "   - Calculate accuracy on test data.\n",
    "\n",
    "7. **K-Nearest Neighbors (KNN)**\n",
    "   - Choose a value for `k` (pick any value you deem reasonable) and test the model on test data.\n",
    "\n",
    "\n",
    "* At the end of this practical, you will explore the caret model and how to use it to train and evaluate machine learning models and select the parameters in a informed way."
   ]
  }
 ],
 "metadata": {
  "hide_input": false,
  "kernelspec": {
   "display_name": "R",
   "language": "R",
   "name": "ir"
  },
  "language_info": {
   "codemirror_mode": "r",
   "file_extension": ".r",
   "mimetype": "text/x-r-source",
   "name": "R",
   "pygments_lexer": "r",
   "version": "4.3.1"
  }
 },
 "nbformat": 4,
 "nbformat_minor": 4
}
